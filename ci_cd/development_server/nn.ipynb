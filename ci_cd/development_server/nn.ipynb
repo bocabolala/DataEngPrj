{
 "cells": [
  {
   "cell_type": "code",
   "execution_count": 363,
   "id": "c2b7b64e",
   "metadata": {},
   "outputs": [],
   "source": [
    "import pandas as pd\n",
    "import matplotlib.pyplot as plt\n",
    "import numpy as np\n",
    "from sklearn.model_selection import train_test_split\n",
    "from sklearn.metrics import r2_score as sk_r2_score\n",
    "from sklearn import preprocessing\n",
    "\n",
    "import pickle\n",
    "\n",
    "import torch\n",
    "import torch.nn as nn\n",
    "import torch.nn.functional as F\n",
    "from torch.utils.data import Dataset, DataLoader"
   ]
  },
  {
   "cell_type": "code",
   "execution_count": 433,
   "id": "8248dab5",
   "metadata": {},
   "outputs": [],
   "source": [
    "PTH = './data.csv'\n",
    "TEST_SIZE = 0.2\n",
    "LR = 0.01\n",
    "BATCH_SIZE = 796 #len(d)*0.8\n",
    "EPOCHS = 500"
   ]
  },
  {
   "cell_type": "code",
   "execution_count": 324,
   "id": "edfc06d4",
   "metadata": {},
   "outputs": [],
   "source": [
    "def string_to_float(feature):\n",
    "    l = d[feature].unique()\n",
    "    l_dict = dict(zip(l, np.arange(0.0, len(l))))\n",
    "    return l_dict "
   ]
  },
  {
   "cell_type": "code",
   "execution_count": 385,
   "id": "65c5865c",
   "metadata": {},
   "outputs": [],
   "source": [
    "def preprocess(d): \n",
    "    clean_language = string_to_float('language')\n",
    "    clean_license = string_to_float('license')\n",
    "    d = d.drop(columns=['private', 'url', 'Unnamed: 0'])\n",
    "    d['language'] = d['language'].apply(lambda x: clean_language[x])\n",
    "    d['license'] = d['license'].apply(lambda x: clean_license[x])\n",
    "    #d = d.drop(columns=['watchers'])\n",
    "\n",
    "    print(d.head())\n",
    "    \n",
    "    X = d.drop(columns=['stars']).values\n",
    "    y = d['stars'].values\n",
    "    \n",
    "    X_train, X_val, y_train, y_val = train_test_split(X, y, test_size=TEST_SIZE, random_state=42)\n",
    "    \n",
    "    \n",
    "    X_train = torch.FloatTensor(X_train)\n",
    "    X_val = torch.FloatTensor(X_val)\n",
    "    y_train = torch.FloatTensor(y_train)\n",
    "    y_val = torch.FloatTensor(y_val)\n",
    "\n",
    "    return X_train, X_val, y_train, y_val"
   ]
  },
  {
   "cell_type": "code",
   "execution_count": 386,
   "id": "a7a92fa3",
   "metadata": {},
   "outputs": [],
   "source": [
    "class NN(nn.Module):\n",
    "    def __init__(self):\n",
    "        super().__init__()\n",
    "        self.fc1 = nn.Linear(in_features=10, out_features=72)\n",
    "        self.fc2 = nn.Linear(in_features=72, out_features=72)\n",
    "        self.fc3 = nn.Linear(in_features=72, out_features=36)\n",
    "        self.fc4 = nn.Linear(in_features=36, out_features=18)\n",
    "        self.fc5 = nn.Linear(in_features=18, out_features=9)\n",
    "        self.output = nn.Linear(in_features=9, out_features=1)\n",
    "        \n",
    "\n",
    "    def forward(self, x):\n",
    "        x = F.relu(self.fc1(x))\n",
    "        x = F.relu(self.fc2(x))\n",
    "        x = F.relu(self.fc3(x))\n",
    "        x = F.relu(self.fc4(x))\n",
    "        x = F.relu(self.fc5(x))\n",
    "        x = self.output(x)\n",
    "        return x"
   ]
  },
  {
   "cell_type": "code",
   "execution_count": 387,
   "id": "6197c233",
   "metadata": {},
   "outputs": [],
   "source": [
    "def r2_loss(output, target):\n",
    "    target_mean = torch.mean(target)\n",
    "    ss_tot = torch.sum((target - target_mean) ** 2)\n",
    "    ss_res = torch.sum((target - output) ** 2)\n",
    "    r2 = 1 - ss_res / ss_tot\n",
    "    return r2"
   ]
  },
  {
   "cell_type": "code",
   "execution_count": 388,
   "id": "20b3b6f7",
   "metadata": {},
   "outputs": [],
   "source": [
    "def train(model, criterion, optimizer):\n",
    "    epochs = EPOCHS\n",
    "    loss_arr = []\n",
    "\n",
    "    for i in range(epochs):\n",
    "\n",
    "        permutation = torch.randperm(X_train.size()[0])\n",
    "        \n",
    "        for j in range(0,X_train.size()[0], BATCH_SIZE):\n",
    "            \n",
    "            indices = permutation[j:j+BATCH_SIZE]\n",
    "            batch_x, batch_y = X_train[indices], y_train[indices]\n",
    "            \n",
    "            y_hat = model.forward(batch_x)\n",
    "            loss = criterion(batch_y, y_hat)\n",
    "            loss_arr.append(loss.detach().numpy())\n",
    "\n",
    "        if i % 100 == 0:\n",
    "            print(f'Epoch: {i} Loss: {loss}')\n",
    "\n",
    "        optimizer.zero_grad()\n",
    "        loss.backward()\n",
    "        optimizer.step()\n",
    "    \n",
    "    plt.title('Loss VS Epoch')\n",
    "    plt.xlabel(\"Loss\")\n",
    "    plt.xlabel(\"Epoch\")\n",
    "    plt.plot(loss_arr)"
   ]
  },
  {
   "cell_type": "code",
   "execution_count": 389,
   "id": "550e771b",
   "metadata": {},
   "outputs": [],
   "source": [
    "def get_r2_score(model):\n",
    "    preds = []\n",
    "    with torch.no_grad():\n",
    "        for val in X_val:\n",
    "            y_hat = model.forward(val)\n",
    "            preds.append(y_hat)\n",
    "    preds = torch.FloatTensor(preds)\n",
    "    return r2_loss(y_val, preds)"
   ]
  },
  {
   "cell_type": "code",
   "execution_count": 390,
   "id": "154585e4",
   "metadata": {},
   "outputs": [],
   "source": [
    "def get_r2_score_sk(model):\n",
    "    preds = []\n",
    "    with torch.no_grad():\n",
    "        for val in X_val:\n",
    "            y_hat = model.forward(val)\n",
    "            preds.append(y_hat)\n",
    "    #preds = np.array(preds, dtype=np.float32)\n",
    "    return sk_r2_score(y_val, preds)"
   ]
  },
  {
   "cell_type": "code",
   "execution_count": 391,
   "id": "4e072494",
   "metadata": {},
   "outputs": [],
   "source": [
    "def get_accuracy(model):\n",
    "    preds = []\n",
    "    with torch.no_grad():\n",
    "        for val in X_val:\n",
    "            y_hat = model.forward(val)\n",
    "            preds.append(round(y_hat.numpy()[0]))\n",
    "    y_val_int = [int(y) for y in y_val.numpy()]\n",
    "    df = pd.DataFrame({'Y': y_val_int, 'YHat': preds})\n",
    "    df['Correct'] = [1 if corr == pred else 0 for corr, pred in zip(df['Y'], df['YHat'])]\n",
    "    print(df.head(n=10))\n",
    "    return df['Correct'].sum() / len(df)"
   ]
  },
  {
   "cell_type": "code",
   "execution_count": 392,
   "id": "c8b2ebd9",
   "metadata": {},
   "outputs": [
    {
     "name": "stdout",
     "output_type": "stream",
     "text": [
      "    stars  forks  language    size  subscribers  network  issues  watchers  \\\n",
      "0  346019  28631         0  315892         8471    28631     145    346019   \n",
      "1  195821  32118         1   27949         6126    32118     569    195821   \n",
      "2  191817  22142         2    5423         3527    22142       1    191817   \n",
      "3  187981  38681         1  178526         6635    38681     924    187981   \n",
      "4  164934  86752         3  896271         7860    86752    2417    164934   \n",
      "\n",
      "   pulls  commits  license  \n",
      "0     27    30441        0  \n",
      "1    242     3227        1  \n",
      "2      0     4525        1  \n",
      "3    250    14974        1  \n",
      "4    202   129325        2  \n"
     ]
    }
   ],
   "source": [
    "d = pd.read_csv(PTH)\n",
    "X_train, X_val, y_train, y_val = preprocess(d)"
   ]
  },
  {
   "cell_type": "code",
   "execution_count": 434,
   "id": "f5ec0210",
   "metadata": {},
   "outputs": [
    {
     "name": "stderr",
     "output_type": "stream",
     "text": [
      "/Users/manelmateos/Library/Python/3.8/lib/python/site-packages/torch/nn/modules/loss.py:96: UserWarning: Using a target size (torch.Size([796, 1])) that is different to the input size (torch.Size([796])). This will likely lead to incorrect results due to broadcasting. Please ensure they have the same size.\n",
      "  return F.l1_loss(input, target, reduction=self.reduction)\n"
     ]
    },
    {
     "name": "stdout",
     "output_type": "stream",
     "text": [
      "Epoch: 0 Loss: 25610.775390625\n",
      "Epoch: 100 Loss: 15433.134765625\n",
      "Epoch: 200 Loss: 14875.0703125\n",
      "Epoch: 300 Loss: 14300.9072265625\n",
      "Epoch: 400 Loss: 13828.5751953125\n"
     ]
    },
    {
     "data": {
      "image/png": "[encoded data removed]",
      "text/plain": [
       "<Figure size 432x288 with 1 Axes>"
      ]
     },
     "metadata": {
      "needs_background": "light"
     },
     "output_type": "display_data"
    }
   ],
   "source": [
    "model = NN()\n",
    "criterion = nn.L1Loss()\n",
    "optimizer = torch.optim.Adam(model.parameters(), lr=LR)\n",
    "train(model, criterion, optimizer)"
   ]
  },
  {
   "cell_type": "code",
   "execution_count": 437,
   "id": "7459e07e",
   "metadata": {},
   "outputs": [
    {
     "name": "stdout",
     "output_type": "stream",
     "text": [
      "       Y   YHat  Correct\n",
      "0  13114  18050        0\n",
      "1  18211  26108        0\n",
      "2  17600  18373        0\n",
      "3  16255  21473        0\n",
      "4  16724  18477        0\n",
      "5  20034  23273        0\n",
      "6  13734  20314        0\n",
      "7  15514  15352        0\n",
      "8  32750  30208        0\n",
      "9  17138  12676        0\n",
      "r2 score is: 0.7536057233810425\n",
      "accuracy is: 0.0\n"
     ]
    }
   ],
   "source": [
    "r2_score = get_r2_score(model)\n",
    "acc = get_accuracy(model)\n",
    "\n",
    "print(f'r2 score is: {r2_score}')\n",
    "print(f'accuracy is: {acc}')"
   ]
  },
  {
   "cell_type": "code",
   "execution_count": 436,
   "id": "817ec2fd",
   "metadata": {},
   "outputs": [
    {
     "name": "stderr",
     "output_type": "stream",
     "text": [
      "/Users/manelmateos/Library/Python/3.8/lib/python/site-packages/torch/nn/modules/loss.py:96: UserWarning: Using a target size (torch.Size([796, 1])) that is different to the input size (torch.Size([796])). This will likely lead to incorrect results due to broadcasting. Please ensure they have the same size.\n",
      "  return F.l1_loss(input, target, reduction=self.reduction)\n"
     ]
    },
    {
     "name": "stdout",
     "output_type": "stream",
     "text": [
      "Epoch: 0 Loss: 13319.419921875\n",
      "Epoch: 100 Loss: 13057.0234375\n",
      "Epoch: 200 Loss: 12923.4599609375\n",
      "Epoch: 300 Loss: 13034.0380859375\n",
      "Epoch: 400 Loss: 13186.6591796875\n"
     ]
    },
    {
     "data": {
      "image/png": "[encoded data removed]",
      "text/plain": [
       "<Figure size 432x288 with 1 Axes>"
      ]
     },
     "metadata": {
      "needs_background": "light"
     },
     "output_type": "display_data"
    }
   ],
   "source": [
    "train(model, criterion, optimizer)"
   ]
  },
  {
   "cell_type": "code",
   "execution_count": 438,
   "id": "1ef79165",
   "metadata": {},
   "outputs": [],
   "source": [
    "def save_model(model, d_pth):\n",
    "    torch.save(model.state_dict(), d_pth)"
   ]
  },
  {
   "cell_type": "code",
   "execution_count": null,
   "id": "58de65c5",
   "metadata": {},
   "outputs": [],
   "source": [
    "d_pth='model.pth'"
   ]
  }
 ],
 "metadata": {
  "kernelspec": {
   "display_name": "Python 3 (ipykernel)",
   "language": "python",
   "name": "python3"
  },
  "language_info": {
   "codemirror_mode": {
    "name": "ipython",
    "version": 3
   },
   "file_extension": ".py",
   "mimetype": "text/x-python",
   "name": "python",
   "nbconvert_exporter": "python",
   "pygments_lexer": "ipython3",
   "version": "3.8.9"
  }
 },
 "nbformat": 4,
 "nbformat_minor": 5
}
