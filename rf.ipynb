{
 "cells": [
  {
   "cell_type": "code",
   "execution_count": 3,
   "metadata": {},
   "outputs": [
    {
     "ename": "KeyboardInterrupt",
     "evalue": "",
     "output_type": "error",
     "traceback": [
      "\u001b[0;31m---------------------------------------------------------------------------\u001b[0m",
      "\u001b[0;31mKeyboardInterrupt\u001b[0m                         Traceback (most recent call last)",
      "\u001b[1;32m/Users/sig/Documents/DE2/C3/rf.ipynb Cell 1'\u001b[0m in \u001b[0;36m<cell line: 7>\u001b[0;34m()\u001b[0m\n\u001b[1;32m      <a href='vscode-notebook-cell:/Users/sig/Documents/DE2/C3/rf.ipynb#ch0000000?line=3'>4</a>\u001b[0m \u001b[39mfrom\u001b[39;00m \u001b[39msklearn\u001b[39;00m\u001b[39m.\u001b[39;00m\u001b[39mmodel_selection\u001b[39;00m \u001b[39mimport\u001b[39;00m GridSearchCV\n\u001b[1;32m      <a href='vscode-notebook-cell:/Users/sig/Documents/DE2/C3/rf.ipynb#ch0000000?line=4'>5</a>\u001b[0m \u001b[39mimport\u001b[39;00m \u001b[39mnumpy\u001b[39;00m \u001b[39mas\u001b[39;00m \u001b[39mnp\u001b[39;00m\n\u001b[0;32m----> <a href='vscode-notebook-cell:/Users/sig/Documents/DE2/C3/rf.ipynb#ch0000000?line=6'>7</a>\u001b[0m covtype \u001b[39m=\u001b[39m fetch_covtype()\n\u001b[1;32m      <a href='vscode-notebook-cell:/Users/sig/Documents/DE2/C3/rf.ipynb#ch0000000?line=7'>8</a>\u001b[0m clf \u001b[39m=\u001b[39m RandomForestClassifier()\n\u001b[1;32m     <a href='vscode-notebook-cell:/Users/sig/Documents/DE2/C3/rf.ipynb#ch0000000?line=9'>10</a>\u001b[0m X_train, X_val, y_train, y_val \u001b[39m=\u001b[39m train_test_split(covtype\u001b[39m.\u001b[39mdata, \n\u001b[1;32m     <a href='vscode-notebook-cell:/Users/sig/Documents/DE2/C3/rf.ipynb#ch0000000?line=10'>11</a>\u001b[0m                                                     covtype\u001b[39m.\u001b[39mtarget, \n\u001b[1;32m     <a href='vscode-notebook-cell:/Users/sig/Documents/DE2/C3/rf.ipynb#ch0000000?line=11'>12</a>\u001b[0m                                                     test_size \u001b[39m=\u001b[39m\u001b[39m0.25\u001b[39m, \n\u001b[1;32m     <a href='vscode-notebook-cell:/Users/sig/Documents/DE2/C3/rf.ipynb#ch0000000?line=12'>13</a>\u001b[0m                                                     random_state \u001b[39m=\u001b[39m \u001b[39m2\u001b[39m)\n",
      "File \u001b[0;32m~/miniconda3/envs/nlp/lib/python3.8/site-packages/sklearn/datasets/_covtype.py:169\u001b[0m, in \u001b[0;36mfetch_covtype\u001b[0;34m(data_home, download_if_missing, random_state, shuffle, return_X_y, as_frame)\u001b[0m\n\u001b[1;32m    <a href='file:///Users/sig/miniconda3/envs/nlp/lib/python3.8/site-packages/sklearn/datasets/_covtype.py?line=165'>166</a>\u001b[0m y \u001b[39m=\u001b[39m Xy[:, \u001b[39m-\u001b[39m\u001b[39m1\u001b[39m]\u001b[39m.\u001b[39mastype(np\u001b[39m.\u001b[39mint32, copy\u001b[39m=\u001b[39m\u001b[39mFalse\u001b[39;00m)\n\u001b[1;32m    <a href='file:///Users/sig/miniconda3/envs/nlp/lib/python3.8/site-packages/sklearn/datasets/_covtype.py?line=167'>168</a>\u001b[0m samples_tmp_path \u001b[39m=\u001b[39m _pkl_filepath(temp_dir, \u001b[39m\"\u001b[39m\u001b[39msamples\u001b[39m\u001b[39m\"\u001b[39m)\n\u001b[0;32m--> <a href='file:///Users/sig/miniconda3/envs/nlp/lib/python3.8/site-packages/sklearn/datasets/_covtype.py?line=168'>169</a>\u001b[0m joblib\u001b[39m.\u001b[39;49mdump(X, samples_tmp_path, compress\u001b[39m=\u001b[39;49m\u001b[39m9\u001b[39;49m)\n\u001b[1;32m    <a href='file:///Users/sig/miniconda3/envs/nlp/lib/python3.8/site-packages/sklearn/datasets/_covtype.py?line=169'>170</a>\u001b[0m os\u001b[39m.\u001b[39mrename(samples_tmp_path, samples_path)\n\u001b[1;32m    <a href='file:///Users/sig/miniconda3/envs/nlp/lib/python3.8/site-packages/sklearn/datasets/_covtype.py?line=171'>172</a>\u001b[0m targets_tmp_path \u001b[39m=\u001b[39m _pkl_filepath(temp_dir, \u001b[39m\"\u001b[39m\u001b[39mtargets\u001b[39m\u001b[39m\"\u001b[39m)\n",
      "File \u001b[0;32m~/miniconda3/envs/nlp/lib/python3.8/site-packages/joblib/numpy_pickle.py:479\u001b[0m, in \u001b[0;36mdump\u001b[0;34m(value, filename, compress, protocol, cache_size)\u001b[0m\n\u001b[1;32m    <a href='file:///Users/sig/miniconda3/envs/nlp/lib/python3.8/site-packages/joblib/numpy_pickle.py?line=475'>476</a>\u001b[0m \u001b[39mif\u001b[39;00m compress_level \u001b[39m!=\u001b[39m \u001b[39m0\u001b[39m:\n\u001b[1;32m    <a href='file:///Users/sig/miniconda3/envs/nlp/lib/python3.8/site-packages/joblib/numpy_pickle.py?line=476'>477</a>\u001b[0m     \u001b[39mwith\u001b[39;00m _write_fileobject(filename, compress\u001b[39m=\u001b[39m(compress_method,\n\u001b[1;32m    <a href='file:///Users/sig/miniconda3/envs/nlp/lib/python3.8/site-packages/joblib/numpy_pickle.py?line=477'>478</a>\u001b[0m                                                compress_level)) \u001b[39mas\u001b[39;00m f:\n\u001b[0;32m--> <a href='file:///Users/sig/miniconda3/envs/nlp/lib/python3.8/site-packages/joblib/numpy_pickle.py?line=478'>479</a>\u001b[0m         NumpyPickler(f, protocol\u001b[39m=\u001b[39;49mprotocol)\u001b[39m.\u001b[39;49mdump(value)\n\u001b[1;32m    <a href='file:///Users/sig/miniconda3/envs/nlp/lib/python3.8/site-packages/joblib/numpy_pickle.py?line=479'>480</a>\u001b[0m \u001b[39melif\u001b[39;00m is_filename:\n\u001b[1;32m    <a href='file:///Users/sig/miniconda3/envs/nlp/lib/python3.8/site-packages/joblib/numpy_pickle.py?line=480'>481</a>\u001b[0m     \u001b[39mwith\u001b[39;00m \u001b[39mopen\u001b[39m(filename, \u001b[39m'\u001b[39m\u001b[39mwb\u001b[39m\u001b[39m'\u001b[39m) \u001b[39mas\u001b[39;00m f:\n",
      "File \u001b[0;32m~/miniconda3/envs/nlp/lib/python3.8/pickle.py:487\u001b[0m, in \u001b[0;36m_Pickler.dump\u001b[0;34m(self, obj)\u001b[0m\n\u001b[1;32m    <a href='file:///Users/sig/miniconda3/envs/nlp/lib/python3.8/pickle.py?line=484'>485</a>\u001b[0m \u001b[39mif\u001b[39;00m \u001b[39mself\u001b[39m\u001b[39m.\u001b[39mproto \u001b[39m>\u001b[39m\u001b[39m=\u001b[39m \u001b[39m4\u001b[39m:\n\u001b[1;32m    <a href='file:///Users/sig/miniconda3/envs/nlp/lib/python3.8/pickle.py?line=485'>486</a>\u001b[0m     \u001b[39mself\u001b[39m\u001b[39m.\u001b[39mframer\u001b[39m.\u001b[39mstart_framing()\n\u001b[0;32m--> <a href='file:///Users/sig/miniconda3/envs/nlp/lib/python3.8/pickle.py?line=486'>487</a>\u001b[0m \u001b[39mself\u001b[39;49m\u001b[39m.\u001b[39;49msave(obj)\n\u001b[1;32m    <a href='file:///Users/sig/miniconda3/envs/nlp/lib/python3.8/pickle.py?line=487'>488</a>\u001b[0m \u001b[39mself\u001b[39m\u001b[39m.\u001b[39mwrite(STOP)\n\u001b[1;32m    <a href='file:///Users/sig/miniconda3/envs/nlp/lib/python3.8/pickle.py?line=488'>489</a>\u001b[0m \u001b[39mself\u001b[39m\u001b[39m.\u001b[39mframer\u001b[39m.\u001b[39mend_framing()\n",
      "File \u001b[0;32m~/miniconda3/envs/nlp/lib/python3.8/site-packages/joblib/numpy_pickle.py:281\u001b[0m, in \u001b[0;36mNumpyPickler.save\u001b[0;34m(self, obj)\u001b[0m\n\u001b[1;32m    <a href='file:///Users/sig/miniconda3/envs/nlp/lib/python3.8/site-packages/joblib/numpy_pickle.py?line=277'>278</a>\u001b[0m         \u001b[39mself\u001b[39m\u001b[39m.\u001b[39mframer\u001b[39m.\u001b[39mcommit_frame(force\u001b[39m=\u001b[39m\u001b[39mTrue\u001b[39;00m)\n\u001b[1;32m    <a href='file:///Users/sig/miniconda3/envs/nlp/lib/python3.8/site-packages/joblib/numpy_pickle.py?line=279'>280</a>\u001b[0m     \u001b[39m# And then array bytes are written right after the wrapper.\u001b[39;00m\n\u001b[0;32m--> <a href='file:///Users/sig/miniconda3/envs/nlp/lib/python3.8/site-packages/joblib/numpy_pickle.py?line=280'>281</a>\u001b[0m     wrapper\u001b[39m.\u001b[39;49mwrite_array(obj, \u001b[39mself\u001b[39;49m)\n\u001b[1;32m    <a href='file:///Users/sig/miniconda3/envs/nlp/lib/python3.8/site-packages/joblib/numpy_pickle.py?line=281'>282</a>\u001b[0m     \u001b[39mreturn\u001b[39;00m\n\u001b[1;32m    <a href='file:///Users/sig/miniconda3/envs/nlp/lib/python3.8/site-packages/joblib/numpy_pickle.py?line=283'>284</a>\u001b[0m \u001b[39mreturn\u001b[39;00m Pickler\u001b[39m.\u001b[39msave(\u001b[39mself\u001b[39m, obj)\n",
      "File \u001b[0;32m~/miniconda3/envs/nlp/lib/python3.8/site-packages/joblib/numpy_pickle.py:104\u001b[0m, in \u001b[0;36mNumpyArrayWrapper.write_array\u001b[0;34m(self, array, pickler)\u001b[0m\n\u001b[1;32m     <a href='file:///Users/sig/miniconda3/envs/nlp/lib/python3.8/site-packages/joblib/numpy_pickle.py?line=96'>97</a>\u001b[0m \u001b[39melse\u001b[39;00m:\n\u001b[1;32m     <a href='file:///Users/sig/miniconda3/envs/nlp/lib/python3.8/site-packages/joblib/numpy_pickle.py?line=97'>98</a>\u001b[0m     \u001b[39mfor\u001b[39;00m chunk \u001b[39min\u001b[39;00m pickler\u001b[39m.\u001b[39mnp\u001b[39m.\u001b[39mnditer(array,\n\u001b[1;32m     <a href='file:///Users/sig/miniconda3/envs/nlp/lib/python3.8/site-packages/joblib/numpy_pickle.py?line=98'>99</a>\u001b[0m                                    flags\u001b[39m=\u001b[39m[\u001b[39m'\u001b[39m\u001b[39mexternal_loop\u001b[39m\u001b[39m'\u001b[39m,\n\u001b[1;32m    <a href='file:///Users/sig/miniconda3/envs/nlp/lib/python3.8/site-packages/joblib/numpy_pickle.py?line=99'>100</a>\u001b[0m                                           \u001b[39m'\u001b[39m\u001b[39mbuffered\u001b[39m\u001b[39m'\u001b[39m,\n\u001b[1;32m    <a href='file:///Users/sig/miniconda3/envs/nlp/lib/python3.8/site-packages/joblib/numpy_pickle.py?line=100'>101</a>\u001b[0m                                           \u001b[39m'\u001b[39m\u001b[39mzerosize_ok\u001b[39m\u001b[39m'\u001b[39m],\n\u001b[1;32m    <a href='file:///Users/sig/miniconda3/envs/nlp/lib/python3.8/site-packages/joblib/numpy_pickle.py?line=101'>102</a>\u001b[0m                                    buffersize\u001b[39m=\u001b[39mbuffersize,\n\u001b[1;32m    <a href='file:///Users/sig/miniconda3/envs/nlp/lib/python3.8/site-packages/joblib/numpy_pickle.py?line=102'>103</a>\u001b[0m                                    order\u001b[39m=\u001b[39m\u001b[39mself\u001b[39m\u001b[39m.\u001b[39morder):\n\u001b[0;32m--> <a href='file:///Users/sig/miniconda3/envs/nlp/lib/python3.8/site-packages/joblib/numpy_pickle.py?line=103'>104</a>\u001b[0m         pickler\u001b[39m.\u001b[39;49mfile_handle\u001b[39m.\u001b[39;49mwrite(chunk\u001b[39m.\u001b[39;49mtobytes(\u001b[39m'\u001b[39;49m\u001b[39mC\u001b[39;49m\u001b[39m'\u001b[39;49m))\n",
      "File \u001b[0;32m~/miniconda3/envs/nlp/lib/python3.8/site-packages/joblib/compressor.py:479\u001b[0m, in \u001b[0;36mBinaryZlibFile.write\u001b[0;34m(self, data)\u001b[0m\n\u001b[1;32m    <a href='file:///Users/sig/miniconda3/envs/nlp/lib/python3.8/site-packages/joblib/compressor.py?line=475'>476</a>\u001b[0m \u001b[39mif\u001b[39;00m \u001b[39misinstance\u001b[39m(data, \u001b[39mmemoryview\u001b[39m):\n\u001b[1;32m    <a href='file:///Users/sig/miniconda3/envs/nlp/lib/python3.8/site-packages/joblib/compressor.py?line=476'>477</a>\u001b[0m     data \u001b[39m=\u001b[39m data\u001b[39m.\u001b[39mtobytes()\n\u001b[0;32m--> <a href='file:///Users/sig/miniconda3/envs/nlp/lib/python3.8/site-packages/joblib/compressor.py?line=478'>479</a>\u001b[0m compressed \u001b[39m=\u001b[39m \u001b[39mself\u001b[39;49m\u001b[39m.\u001b[39;49m_compressor\u001b[39m.\u001b[39;49mcompress(data)\n\u001b[1;32m    <a href='file:///Users/sig/miniconda3/envs/nlp/lib/python3.8/site-packages/joblib/compressor.py?line=479'>480</a>\u001b[0m \u001b[39mself\u001b[39m\u001b[39m.\u001b[39m_fp\u001b[39m.\u001b[39mwrite(compressed)\n\u001b[1;32m    <a href='file:///Users/sig/miniconda3/envs/nlp/lib/python3.8/site-packages/joblib/compressor.py?line=480'>481</a>\u001b[0m \u001b[39mself\u001b[39m\u001b[39m.\u001b[39m_pos \u001b[39m+\u001b[39m\u001b[39m=\u001b[39m \u001b[39mlen\u001b[39m(data)\n",
      "\u001b[0;31mKeyboardInterrupt\u001b[0m: "
     ]
    }
   ],
   "source": [
    "from sklearn.datasets import fetch_covtype\n",
    "from sklearn.ensemble import RandomForestClassifier\n",
    "from sklearn.model_selection import train_test_split\n",
    "from sklearn.model_selection import GridSearchCV\n",
    "import numpy as np\n",
    "\n",
    "covtype = fetch_covtype()\n",
    "clf = RandomForestClassifier()\n",
    "\n",
    "X_train, X_val, y_train, y_val = train_test_split(covtype.data, \n",
    "                                                    covtype.target, \n",
    "                                                    test_size =0.25, \n",
    "                                                    random_state = 2)\n",
    "\n",
    "params_search_space = {'max_depth':[30,50,100], \n",
    "                        'n_estimators':[20,30,40],\n",
    "                        'ccp_alpha':[0,0.1,0.01]}\n",
    "\n",
    "print(clf.get_param())\n",
    "\n",
    "base_scores = (clf, covtype.data, covtype.target)\n",
    "print(base_scores)\n",
    "\n",
    "\n",
    "\n",
    "\n"
   ]
  }
 ],
 "metadata": {
  "interpreter": {
   "hash": "aa774bdc79d866c3de53e22c4f764cdca3749450d057553b3887482230d17ece"
  },
  "kernelspec": {
   "display_name": "Python 3.8.13 ('nlp')",
   "language": "python",
   "name": "python3"
  },
  "language_info": {
   "codemirror_mode": {
    "name": "ipython",
    "version": 3
   },
   "file_extension": ".py",
   "mimetype": "text/x-python",
   "name": "python",
   "nbconvert_exporter": "python",
   "pygments_lexer": "ipython3",
   "version": "3.8.13"
  },
  "orig_nbformat": 4
 },
 "nbformat": 4,
 "nbformat_minor": 2
}
